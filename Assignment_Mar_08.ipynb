{
 "cells": [
  {
   "cell_type": "markdown",
   "id": "c88be693",
   "metadata": {},
   "source": [
    "Q1. What is the Probability density function?"
   ]
  },
  {
   "cell_type": "markdown",
   "id": "910b91e0",
   "metadata": {},
   "source": [
    "Ans:\n",
    "    \n",
    "    The Probability Density Function (PDF) is a concept in probability theory and statistics that describes the likelihood\n",
    "    of a continuous random variable taking on a particular value. Unlike discrete random variables, which can take on only\n",
    "    distinct values (like integers), continuous random variables can take on any value within a range.\n",
    "\n",
    "    For a continuous random variable X, the PDF f(x) is defined such that the probability that X lies in a given interval\n",
    "    is the integral of \n",
    "    f(x) over that interval. Mathematically, this is represented as:\n",
    "        \n",
    "        P(a≤X≤b)=∫limit a to b f(x)dx\n",
    "        \n",
    "    Common examples of continuous distributions and their PDFs include the normal distribution, exponential distribution,\n",
    "    uniform distribution, and many others.\n",
    "\n",
    "\n",
    "\n",
    "\n",
    "\n",
    "\n"
   ]
  },
  {
   "cell_type": "markdown",
   "id": "0843937e",
   "metadata": {},
   "source": [
    "Q2. What are the types of Probability distribution?"
   ]
  },
  {
   "cell_type": "markdown",
   "id": "2619b942",
   "metadata": {},
   "source": [
    "Ans:\n",
    "    \n",
    "    Discrete Probability Distributions:\n",
    "\n",
    "    Probability Mass Function (PMF): For discrete random variables, the PMF gives the probability of each possible value of\n",
    "        the random variable\n",
    "        \n",
    "    Examples:\n",
    "    Binomial Distribution: Describes the number of successes in a fixed number of Bernoulli trials.\n",
    "    Poisson Distribution: Models the number of events occurring in a fixed interval of time or space.\n",
    "    Geometric Distribution: Represents the number of Bernoulli trials needed for a success to occur for the first time.\n",
    "    Uniform Distribution: Every outcome has an equal probability.\n",
    "\n",
    "    Continuous Probability Distributions:\n",
    "\n",
    "    Probability Density Function (PDF): For continuous random variables, the PDF provides the probabilities over intervals\n",
    "        rather than specific values. The integral of the PDF over an interval gives the probability that the random\n",
    "        variable falls within that interval.\n",
    "    Examples:\n",
    "    Normal Distribution: Also known as the Gaussian distribution, it's characterized by its bell-shaped curve.\n",
    "    Exponential Distribution: Models the time between events in a Poisson point process.\n",
    "    Uniform Distribution: Where outcomes are equally likely over a specified interval.\n",
    "    Chi-Square Distribution, Beta Distribution, Gamma Distribution, and t-Distribution are other examples of continuous\n",
    "    distributions.\n",
    "    \n",
    "    Apart from these, there are also:\n",
    "\n",
    "    Mixed Distributions: Some distributions combine both discrete and continuous elements. For instance, the Poisson\n",
    "        distribution can be seen as discrete, but if you consider a large number of intervals, the number of events in \n",
    "        these intervals can be treated as continuous."
   ]
  },
  {
   "cell_type": "markdown",
   "id": "e004e102",
   "metadata": {},
   "source": [
    "Q3. Write a Python function to calculate the probability density function of a normal distribution with\n",
    "given mean and standard deviation at a given point."
   ]
  },
  {
   "cell_type": "code",
   "execution_count": 1,
   "id": "2e9339f1",
   "metadata": {},
   "outputs": [
    {
     "name": "stdout",
     "output_type": "stream",
     "text": [
      "The PDF value at x = 0.5 is: 0.3520653267642995\n"
     ]
    }
   ],
   "source": [
    "import math\n",
    "\n",
    "def normal_pdf(x, mean, std_dev):\n",
    "    \n",
    "    # Calculate the exponent term\n",
    "    exponent = -((x - mean) ** 2) / (2 * std_dev ** 2)\n",
    "    \n",
    "    # Calculate the PDF value\n",
    "    pdf_value = (1 / (math.sqrt(2 * math.pi * std_dev ** 2))) * math.exp(exponent)\n",
    "    \n",
    "    return pdf_value\n",
    "\n",
    "# Example usage:\n",
    "mean_value = 0  # Mean of the normal distribution\n",
    "std_dev_value = 1  # Standard deviation of the normal distribution\n",
    "point = 0.5  # Point at which to evaluate the PDF\n",
    "\n",
    "pdf_at_point = normal_pdf(point, mean_value, std_dev_value)\n",
    "print(f\"The PDF value at x = {point} is: {pdf_at_point}\")\n",
    "\n",
    "    \n",
    "    "
   ]
  },
  {
   "cell_type": "markdown",
   "id": "f891ae2e",
   "metadata": {},
   "source": [
    "Q4. What are the properties of Binomial distribution? Give two examples of events where binomial\n",
    "distribution can be applied."
   ]
  },
  {
   "cell_type": "markdown",
   "id": "56a9ee24",
   "metadata": {},
   "source": [
    "Ans:\n",
    "    \n",
    "    Properties of the Binomial Distribution:\n",
    "    Fixed Number of Trials: The binomial distribution applies to experiments that consist of a fixed number of identical \n",
    "        trials.\n",
    "\n",
    "    Two Possible Outcomes: Each trial results in one of two possible outcomes, often referred to as \"success\" and \"failure.\"\n",
    "\n",
    "    Independence: The outcome of one trial does not affect the outcome of another trial. This is referred to as the trials\n",
    "        being independent.\n",
    "\n",
    "    Constant Probability: The probability of success, denoted by p, remains constant from trial to trial.\n",
    "\n",
    "    Discrete Nature: The binomial random variable represents the number of successes in  n independent Bernoulli trials,\n",
    "        where n is a fixed number.\n",
    "\n",
    "    Examples of Events Where Binomial Distribution Can Be Applied:\n",
    "    Coin Toss Experiment:\n",
    "\n",
    "    Description: Tossing a fair coin n times and counting the number of heads.\n",
    "    Binomial Setting: Each toss is an independent trial with two possible outcomes (heads or tails). If the coin is fair, \n",
    "        the probability of getting a head on each trial is p=0.5. The number of heads in  n tosses follows a binomial \n",
    "        distribution."
   ]
  },
  {
   "cell_type": "markdown",
   "id": "bbbffce5",
   "metadata": {},
   "source": [
    "Q5. Generate a random sample of size 1000 from a binomial distribution with probability of success 0.4\n",
    "and plot a histogram of the results using matplotlib.\n"
   ]
  },
  {
   "cell_type": "code",
   "execution_count": 5,
   "id": "40f3b7d1",
   "metadata": {},
   "outputs": [
    {
     "data": {
      "image/png": "[encoded data removed]",
      "text/plain": [
       "<Figure size 400x300 with 1 Axes>"
      ]
     },
     "metadata": {},
     "output_type": "display_data"
    }
   ],
   "source": [
    "'''Ans:\n",
    "    \n",
    "    To generate a random sample from a binomial distribution with a probability of success p=0.4 and a sample size of \n",
    "    n=1000, you can use Python's numpy library to draw random samples from the binomial distribution and matplotlib to \n",
    "    plot the histogram of the results.\n",
    "\n",
    "    Here's how you can do it:\n",
    "\n",
    "    Generate the random sample from the binomial distribution using NumPy's random.binomial() function.\n",
    "    Plot the histogram of the generated sample using Matplotlib.'''\n",
    "\n",
    "import numpy as np\n",
    "import matplotlib.pyplot as plt\n",
    "\n",
    "# Set the parameters\n",
    "n = 1000  # Sample size\n",
    "p = 0.4   # Probability of success\n",
    "\n",
    "# Generate a random sample from the binomial distribution\n",
    "random_sample = np.random.binomial(1, p, n)  # 1 indicates the number of trials, so we draw 1 sample at a time\n",
    "\n",
    "# Plotting the histogram\n",
    "plt.figure(figsize=(4, 3))\n",
    "plt.hist(random_sample, bins=2, color='skyblue', edgecolor='black')  # bins=2 since we have two outcomes: 0 (failure) and 1 (success)\n",
    "plt.title('Histogram of Random Sample from Binomial Distribution', fontsize=14)\n",
    "plt.xlabel('Outcome', fontsize=10)\n",
    "plt.ylabel('Frequency', fontsize=10)\n",
    "plt.xticks([0, 1], ['Failure (0)', 'Success (1)'])\n",
    "plt.yticks(fontsize=10)\n",
    "plt.grid(axis='y', linestyle='--', alpha=0.7)\n",
    "\n",
    "# Display the plot\n",
    "plt.tight_layout()\n",
    "plt.show()\n"
   ]
  },
  {
   "cell_type": "markdown",
   "id": "bc5a99f9",
   "metadata": {},
   "source": [
    "Q6. Write a Python function to calculate the cumulative distribution function of a Poisson distribution\n",
    "with given mean at a given point."
   ]
  },
  {
   "cell_type": "code",
   "execution_count": 8,
   "id": "ab83472d",
   "metadata": {},
   "outputs": [
    {
     "name": "stdout",
     "output_type": "stream",
     "text": [
      "The CDF value at k = 2 is: 0.3208471988621341\n"
     ]
    }
   ],
   "source": [
    "'''The Cumulative Distribution Function (CDF) of a Poisson distribution with mean λ at a given point k is the probability\n",
    "that a Poisson random variable takes on a value less than or equal to k. The formula for the CDF of the Poisson \n",
    "distribution is:\n",
    "    P(X≤k)=∑ i is 0 to k e^−λλ^i/i!\n",
    "    \n",
    "Here's a Python function that calculates the CDF of a Poisson distribution:'''\n",
    "\n",
    "import math\n",
    "\n",
    "def poisson_cdf(k, mean):\n",
    "    cdf_value = 0\n",
    "    for i in range(k + 1):\n",
    "        cdf_value += (math.exp(-mean) * (mean ** i)) / math.factorial(i)\n",
    "    return cdf_value\n",
    "\n",
    "# Example usage:\n",
    "mean_value = 3.5  # Mean (lambda) of the Poisson distribution\n",
    "point = 2  # Point at which to evaluate the CDF\n",
    "\n",
    "cdf_at_point = poisson_cdf(point, mean_value)\n",
    "print(f\"The CDF value at k = {point} is: {cdf_at_point}\")\n",
    "\n"
   ]
  },
  {
   "cell_type": "markdown",
   "id": "eb8083e1",
   "metadata": {},
   "source": [
    "Q7. How Binomial distribution different from Poisson distribution?"
   ]
  },
  {
   "cell_type": "markdown",
   "id": "2e15a2ad",
   "metadata": {},
   "source": [
    "Ans:\n",
    "    \n",
    "    1. Nature of Trials:\n",
    "    Binomial Distribution: It is used for a fixed number of n independent Bernoulli trials, where each trial can result \n",
    "        in one of two outcomes (often referred to as \"success\" or \"failure\").\n",
    "\n",
    "    Poisson Distribution: It represents the number of events occurring in a fixed interval of time or space. Unlike \n",
    "        the Binomial distribution, the number of trials or events is not fixed; instead, it's about counting the number \n",
    "        of occurrences of an event within a specific period or space.\n",
    "\n",
    "    2. Number of Outcomes:\n",
    "    Binomial Distribution: Each trial has two possible outcomes, typically denoted as \"success\" and \"failure.\"\n",
    "\n",
    "    Poisson Distribution: It's essentially a limiting case of the Binomial distribution where the number of trials n \n",
    "        approaches infinity, but the product n×p (where  p is the probability of success in each trial) remains constant.\n",
    "        The outcomes are counts of events, not necessarily binary.\n",
    "\n",
    "    3. Parameters:\n",
    "    Binomial Distribution: Defined by two parameters: \n",
    "    \n",
    "    n (number of trials) and \n",
    "    \n",
    "    p (probability of success on each trial).\n",
    "\n",
    "    Poisson Distribution: Defined by a single parameter  λ (lambda), which represents the average rate (or mean number) \n",
    "        of occurrences of the event in the given interval.\n",
    "\n",
    "    4. Variance:\n",
    "    Binomial Distribution: The variance is \n",
    "    n(1−p), where \n",
    "    \n",
    "    n is the number of trials and \n",
    "    \n",
    "    p is the probability of success. This variance is not constant as n changes unless p is adjusted proportionally.\n",
    "\n",
    "    Poisson Distribution: The variance is equal to its mean λ. This property makes the Poisson distribution suitable\n",
    "        for situations where events occur at a low rate, as the variance grows with the mean.\n",
    "\n",
    "    5. Applications:\n",
    "    Binomial Distribution: Commonly used in scenarios like quality control, where you might inspect \n",
    "    \n",
    "    n items and count the number of defective items.\n",
    "\n",
    "    Poisson Distribution: Applied in various contexts such as modeling the number of calls to a call center in a given\n",
    "        time interval, the number of emails received by an individual in a day, or the number of arrivals at a service point \n",
    "        in a given time.\n",
    "\n"
   ]
  },
  {
   "cell_type": "markdown",
   "id": "9b595270",
   "metadata": {},
   "source": [
    "Q8. Generate a random sample of size 1000 from a Poisson distribution with mean 5 and calculate the\n",
    "sample mean and variance."
   ]
  },
  {
   "cell_type": "code",
   "execution_count": 9,
   "id": "1715281f",
   "metadata": {},
   "outputs": [
    {
     "name": "stdout",
     "output_type": "stream",
     "text": [
      "Sample Mean: 4.943\n",
      "Sample Variance: 5.505750999999999\n"
     ]
    }
   ],
   "source": [
    "import numpy as np\n",
    "\n",
    "# Set the parameters\n",
    "mean_lambda = 5  # Mean of the Poisson distribution\n",
    "sample_size = 1000  # Sample size\n",
    "\n",
    "# Generate a random sample from the Poisson distribution\n",
    "random_sample = np.random.poisson(mean_lambda, sample_size)\n",
    "\n",
    "# Calculate the sample mean\n",
    "sample_mean = np.mean(random_sample)\n",
    "\n",
    "# Calculate the sample variance\n",
    "sample_variance = np.var(random_sample)\n",
    "\n",
    "# Print the sample mean and variance\n",
    "print(f\"Sample Mean: {sample_mean}\")\n",
    "print(f\"Sample Variance: {sample_variance}\")\n"
   ]
  },
  {
   "cell_type": "markdown",
   "id": "a4a2ac58",
   "metadata": {},
   "source": [
    "Q9. How mean and variance are related in Binomial distribution and Poisson distribution?"
   ]
  },
  {
   "cell_type": "markdown",
   "id": "3b92d9f3",
   "metadata": {},
   "source": [
    "Ans:\n",
    "    \n",
    "    Both the Binomial and Poisson distributions have relationships between their mean (expected value) and variance, but\n",
    "    these relationships differ between the two distributions due to their distinct characteristics. Let's explore the \n",
    "    relationships:\n",
    "\n",
    "    Binomial Distribution:\n",
    "    Mean (μ) and Variance (σ^2):\n",
    "\n",
    "    Mean (μ) of a binomial distribution with parameters n (number of trials) and  p (probability of success) is μ=n×p.\n",
    "    Variance (σ^2) is given by σ^2=n×p×(1−p).\n",
    "    \n",
    "    Relationship:\n",
    "\n",
    "    The variance in a binomial distribution is maximized when p=0.5 and decreases as p moves away from 0.5 towards 0 or 1.\n",
    "    As the mean μ=n×p changes (with n fixed), the variance σ^2 will also change proportionally.\n",
    "    \n",
    "    Poisson Distribution:\n",
    "    Mean (λ) and Variance (λ):\n",
    "\n",
    "    In a Poisson distribution, both the mean (λ) and variance are equal, i.e., \n",
    "    Mean=Variance=λ.\n",
    "    \n",
    "    Relationship:\n",
    "\n",
    "    The variance in a Poisson distribution is always equal to its mean. This property is unique to the Poisson distribution\n",
    "    and is not found in the Binomial distribution.\n",
    "    As the rate parameter λ changes, both the mean and variance of the Poisson distribution will change in the same manner, \n",
    "    remaining equal to each other.\n"
   ]
  },
  {
   "cell_type": "markdown",
   "id": "d79e7a75",
   "metadata": {},
   "source": [
    "Q10. In normal distribution with respect to mean position, where does the least frequent data appear?"
   ]
  },
  {
   "cell_type": "markdown",
   "id": "99f77945",
   "metadata": {},
   "source": [
    "Ans:\n",
    "    In a normal distribution, which is symmetric about its mean, the least frequent data (i.e., the smallest probabilities) \n",
    "    appear in the tails of the distribution, farthest away from the mean position."
   ]
  },
  {
   "cell_type": "code",
   "execution_count": null,
   "id": "81829689",
   "metadata": {},
   "outputs": [],
   "source": []
  }
 ],
 "metadata": {
  "kernelspec": {
   "display_name": "Python 3 (ipykernel)",
   "language": "python",
   "name": "python3"
  },
  "language_info": {
   "codemirror_mode": {
    "name": "ipython",
    "version": 3
   },
   "file_extension": ".py",
   "mimetype": "text/x-python",
   "name": "python",
   "nbconvert_exporter": "python",
   "pygments_lexer": "ipython3",
   "version": "3.9.13"
  }
 },
 "nbformat": 4,
 "nbformat_minor": 5
}
